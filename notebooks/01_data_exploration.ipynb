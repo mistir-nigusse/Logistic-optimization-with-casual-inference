{
 "cells": [
  {
   "cell_type": "code",
   "execution_count": 16,
   "metadata": {},
   "outputs": [],
   "source": [
    "import pandas as pd\n",
    "from geopy.distance import geodesic\n",
    "\n",
    "\n",
    "\n",
    "\n",
    "\n"
   ]
  },
  {
   "cell_type": "code",
   "execution_count": 17,
   "metadata": {},
   "outputs": [],
   "source": [
    "nb_df = pd.read_csv('../data/raw/nb.csv')\n",
    "location_df = pd.read_csv('../data/raw/location.csv')"
   ]
  },
  {
   "cell_type": "code",
   "execution_count": 18,
   "metadata": {},
   "outputs": [
    {
     "name": "stdout",
     "output_type": "stream",
     "text": [
      "<class 'pandas.core.frame.DataFrame'>\n",
      "RangeIndex: 536020 entries, 0 to 536019\n",
      "Data columns (total 5 columns):\n",
      " #   Column            Non-Null Count   Dtype \n",
      "---  ------            --------------   ----- \n",
      " 0   Trip ID           536020 non-null  int64 \n",
      " 1   Trip Origin       536020 non-null  object\n",
      " 2   Trip Destination  536020 non-null  object\n",
      " 3   Trip Start Time   534369 non-null  object\n",
      " 4   Trip End Time     536019 non-null  object\n",
      "dtypes: int64(1), object(4)\n",
      "memory usage: 20.4+ MB\n"
     ]
    },
    {
     "data": {
      "text/html": [
       "<div>\n",
       "<style scoped>\n",
       "    .dataframe tbody tr th:only-of-type {\n",
       "        vertical-align: middle;\n",
       "    }\n",
       "\n",
       "    .dataframe tbody tr th {\n",
       "        vertical-align: top;\n",
       "    }\n",
       "\n",
       "    .dataframe thead th {\n",
       "        text-align: right;\n",
       "    }\n",
       "</style>\n",
       "<table border=\"1\" class=\"dataframe\">\n",
       "  <thead>\n",
       "    <tr style=\"text-align: right;\">\n",
       "      <th></th>\n",
       "      <th>Trip ID</th>\n",
       "      <th>Trip Origin</th>\n",
       "      <th>Trip Destination</th>\n",
       "      <th>Trip Start Time</th>\n",
       "      <th>Trip End Time</th>\n",
       "    </tr>\n",
       "  </thead>\n",
       "  <tbody>\n",
       "    <tr>\n",
       "      <th>0</th>\n",
       "      <td>391996</td>\n",
       "      <td>6.508813001668548,3.37740316890347</td>\n",
       "      <td>6.650969799999999,3.3450307</td>\n",
       "      <td>2021-07-01 07:28:04</td>\n",
       "      <td>2021-07-01 07:29:37</td>\n",
       "    </tr>\n",
       "    <tr>\n",
       "      <th>1</th>\n",
       "      <td>391997</td>\n",
       "      <td>6.4316714,3.4555375</td>\n",
       "      <td>6.4280814653326,3.4721885847586</td>\n",
       "      <td>2021-07-01 06:38:04</td>\n",
       "      <td>2021-07-01 07:07:28</td>\n",
       "    </tr>\n",
       "    <tr>\n",
       "      <th>2</th>\n",
       "      <td>391998</td>\n",
       "      <td>6.631679399999999,3.3388976</td>\n",
       "      <td>6.508324099999999,3.3590397</td>\n",
       "      <td>2021-07-01 06:21:02</td>\n",
       "      <td>2021-07-01 07:02:23</td>\n",
       "    </tr>\n",
       "    <tr>\n",
       "      <th>3</th>\n",
       "      <td>391999</td>\n",
       "      <td>6.572757200000001,3.3677082</td>\n",
       "      <td>6.584881099999999,3.3614073</td>\n",
       "      <td>2021-07-01 07:16:07</td>\n",
       "      <td>2021-07-01 07:29:42</td>\n",
       "    </tr>\n",
       "    <tr>\n",
       "      <th>4</th>\n",
       "      <td>392001</td>\n",
       "      <td>6.6010417,3.2766339</td>\n",
       "      <td>6.4501069,3.3916154</td>\n",
       "      <td>2021-07-01 09:30:59</td>\n",
       "      <td>2021-07-01 09:34:36</td>\n",
       "    </tr>\n",
       "  </tbody>\n",
       "</table>\n",
       "</div>"
      ],
      "text/plain": [
       "   Trip ID                         Trip Origin  \\\n",
       "0   391996  6.508813001668548,3.37740316890347   \n",
       "1   391997                 6.4316714,3.4555375   \n",
       "2   391998         6.631679399999999,3.3388976   \n",
       "3   391999         6.572757200000001,3.3677082   \n",
       "4   392001                 6.6010417,3.2766339   \n",
       "\n",
       "                  Trip Destination      Trip Start Time        Trip End Time  \n",
       "0      6.650969799999999,3.3450307  2021-07-01 07:28:04  2021-07-01 07:29:37  \n",
       "1  6.4280814653326,3.4721885847586  2021-07-01 06:38:04  2021-07-01 07:07:28  \n",
       "2      6.508324099999999,3.3590397  2021-07-01 06:21:02  2021-07-01 07:02:23  \n",
       "3      6.584881099999999,3.3614073  2021-07-01 07:16:07  2021-07-01 07:29:42  \n",
       "4              6.4501069,3.3916154  2021-07-01 09:30:59  2021-07-01 09:34:36  "
      ]
     },
     "execution_count": 18,
     "metadata": {},
     "output_type": "execute_result"
    }
   ],
   "source": [
    "nb_df.info()\n",
    "nb_df.describe()\n",
    "nb_df.head(5)\n",
    "\n"
   ]
  },
  {
   "cell_type": "code",
   "execution_count": 19,
   "metadata": {},
   "outputs": [
    {
     "name": "stdout",
     "output_type": "stream",
     "text": [
      "<class 'pandas.core.frame.DataFrame'>\n",
      "RangeIndex: 536020 entries, 0 to 536019\n",
      "Data columns (total 5 columns):\n",
      " #   Column            Non-Null Count   Dtype \n",
      "---  ------            --------------   ----- \n",
      " 0   Trip ID           536020 non-null  int64 \n",
      " 1   Trip Origin       536020 non-null  object\n",
      " 2   Trip Destination  536020 non-null  object\n",
      " 3   Trip Start Time   534369 non-null  object\n",
      " 4   Trip End Time     536019 non-null  object\n",
      "dtypes: int64(1), object(4)\n",
      "memory usage: 20.4+ MB\n"
     ]
    },
    {
     "data": {
      "text/html": [
       "<div>\n",
       "<style scoped>\n",
       "    .dataframe tbody tr th:only-of-type {\n",
       "        vertical-align: middle;\n",
       "    }\n",
       "\n",
       "    .dataframe tbody tr th {\n",
       "        vertical-align: top;\n",
       "    }\n",
       "\n",
       "    .dataframe thead th {\n",
       "        text-align: right;\n",
       "    }\n",
       "</style>\n",
       "<table border=\"1\" class=\"dataframe\">\n",
       "  <thead>\n",
       "    <tr style=\"text-align: right;\">\n",
       "      <th></th>\n",
       "      <th>id</th>\n",
       "      <th>order_id</th>\n",
       "      <th>driver_id</th>\n",
       "      <th>driver_action</th>\n",
       "      <th>lat</th>\n",
       "      <th>lng</th>\n",
       "      <th>created_at</th>\n",
       "      <th>updated_at</th>\n",
       "    </tr>\n",
       "  </thead>\n",
       "  <tbody>\n",
       "    <tr>\n",
       "      <th>0</th>\n",
       "      <td>1</td>\n",
       "      <td>392001</td>\n",
       "      <td>243828</td>\n",
       "      <td>accepted</td>\n",
       "      <td>6.602207</td>\n",
       "      <td>3.270465</td>\n",
       "      <td>NaN</td>\n",
       "      <td>NaN</td>\n",
       "    </tr>\n",
       "    <tr>\n",
       "      <th>1</th>\n",
       "      <td>2</td>\n",
       "      <td>392001</td>\n",
       "      <td>243588</td>\n",
       "      <td>rejected</td>\n",
       "      <td>6.592097</td>\n",
       "      <td>3.287445</td>\n",
       "      <td>NaN</td>\n",
       "      <td>NaN</td>\n",
       "    </tr>\n",
       "    <tr>\n",
       "      <th>2</th>\n",
       "      <td>3</td>\n",
       "      <td>392001</td>\n",
       "      <td>243830</td>\n",
       "      <td>rejected</td>\n",
       "      <td>6.596133</td>\n",
       "      <td>3.281784</td>\n",
       "      <td>NaN</td>\n",
       "      <td>NaN</td>\n",
       "    </tr>\n",
       "    <tr>\n",
       "      <th>3</th>\n",
       "      <td>4</td>\n",
       "      <td>392001</td>\n",
       "      <td>243539</td>\n",
       "      <td>rejected</td>\n",
       "      <td>6.596142</td>\n",
       "      <td>3.280526</td>\n",
       "      <td>NaN</td>\n",
       "      <td>NaN</td>\n",
       "    </tr>\n",
       "    <tr>\n",
       "      <th>4</th>\n",
       "      <td>5</td>\n",
       "      <td>392001</td>\n",
       "      <td>171653</td>\n",
       "      <td>rejected</td>\n",
       "      <td>6.609232</td>\n",
       "      <td>3.288800</td>\n",
       "      <td>NaN</td>\n",
       "      <td>NaN</td>\n",
       "    </tr>\n",
       "  </tbody>\n",
       "</table>\n",
       "</div>"
      ],
      "text/plain": [
       "   id  order_id  driver_id driver_action       lat       lng  created_at  \\\n",
       "0   1    392001     243828      accepted  6.602207  3.270465         NaN   \n",
       "1   2    392001     243588      rejected  6.592097  3.287445         NaN   \n",
       "2   3    392001     243830      rejected  6.596133  3.281784         NaN   \n",
       "3   4    392001     243539      rejected  6.596142  3.280526         NaN   \n",
       "4   5    392001     171653      rejected  6.609232  3.288800         NaN   \n",
       "\n",
       "   updated_at  \n",
       "0         NaN  \n",
       "1         NaN  \n",
       "2         NaN  \n",
       "3         NaN  \n",
       "4         NaN  "
      ]
     },
     "execution_count": 19,
     "metadata": {},
     "output_type": "execute_result"
    }
   ],
   "source": [
    "nb_df.info()\n",
    "nb_df.describe()\n",
    "location_df.head(5)"
   ]
  },
  {
   "cell_type": "code",
   "execution_count": 20,
   "metadata": {},
   "outputs": [
    {
     "name": "stdout",
     "output_type": "stream",
     "text": [
      "\n",
      "No columns in nb_df have all NaN values.\n",
      "\n",
      "Columns in location_df with all NaN values:\n",
      "created_at\n",
      "updated_at\n"
     ]
    }
   ],
   "source": [
    "all_nan_columns_nb = nb_df.columns[nb_df.isna().all()].tolist()\n",
    "all_nan_columns_location = location_df.columns[location_df.isna().all()].tolist()\n",
    "\n",
    "if all_nan_columns_nb:\n",
    "    print(\"\\nColumns in nb_df with all NaN values:\")\n",
    "    for col in all_nan_columns_nb:\n",
    "        print(col)\n",
    "else:\n",
    "    print(\"\\nNo columns in nb_df have all NaN values.\")\n",
    "\n",
    "if all_nan_columns_location:\n",
    "    print(\"\\nColumns in location_df with all NaN values:\")\n",
    "    for col in all_nan_columns_location:\n",
    "        print(col)\n",
    "else:\n",
    "    print(\"\\nNo columns in location_df have all NaN values.\")\n"
   ]
  },
  {
   "cell_type": "code",
   "execution_count": 21,
   "metadata": {},
   "outputs": [],
   "source": [
    "nb_df_cleaned = nb_df.dropna(axis=1, how='all')\n",
    "location_df_cleaned = location_df.dropna(axis=1, how='all')"
   ]
  },
  {
   "cell_type": "code",
   "execution_count": 22,
   "metadata": {},
   "outputs": [],
   "source": [
    "nb_df_cleaned = nb_df_cleaned.dropna()\n",
    "location_df_cleaned = location_df_cleaned.dropna()"
   ]
  },
  {
   "cell_type": "code",
   "execution_count": null,
   "metadata": {},
   "outputs": [
    {
     "name": "stdout",
     "output_type": "stream",
     "text": [
      "<class 'pandas.core.frame.DataFrame'>\n",
      "Index: 534368 entries, 0 to 536019\n",
      "Data columns (total 5 columns):\n",
      " #   Column            Non-Null Count   Dtype \n",
      "---  ------            --------------   ----- \n",
      " 0   Trip ID           534368 non-null  int64 \n",
      " 1   Trip Origin       534368 non-null  object\n",
      " 2   Trip Destination  534368 non-null  object\n",
      " 3   Trip Start Time   534368 non-null  object\n",
      " 4   Trip End Time     534368 non-null  object\n",
      "dtypes: int64(1), object(4)\n",
      "memory usage: 24.5+ MB\n",
      "<class 'pandas.core.frame.DataFrame'>\n",
      "RangeIndex: 1557740 entries, 0 to 1557739\n",
      "Data columns (total 6 columns):\n",
      " #   Column         Non-Null Count    Dtype  \n",
      "---  ------         --------------    -----  \n",
      " 0   id             1557740 non-null  int64  \n",
      " 1   order_id       1557740 non-null  int64  \n",
      " 2   driver_id      1557740 non-null  int64  \n",
      " 3   driver_action  1557740 non-null  object \n",
      " 4   lat            1557740 non-null  float64\n",
      " 5   lng            1557740 non-null  float64\n",
      "dtypes: float64(2), int64(3), object(1)\n",
      "memory usage: 71.3+ MB\n"
     ]
    }
   ],
   "source": [
    "nb_df_cleaned.info()\n",
    "location_df_cleaned.info()\n"
   ]
  },
  {
   "cell_type": "code",
   "execution_count": null,
   "metadata": {},
   "outputs": [],
   "source": [
    "nb_df_cleaned.to_csv('../data/processed/nb_cleaned.csv')\n",
    "location_df_cleaned.to_csv('../data/processed/location_cleaned.csv')"
   ]
  },
  {
   "cell_type": "code",
   "execution_count": null,
   "metadata": {},
   "outputs": [],
   "source": [
    "nb_df_cleaned = pd.read_csv('../data/processed/nb_cleaned.csv')\n",
    "location_df_cleaned = pd.read_csv('../data/processed/location_cleaned.csv')"
   ]
  },
  {
   "cell_type": "code",
   "execution_count": null,
   "metadata": {},
   "outputs": [],
   "source": [
    "location_df_cleaned = location_df_cleaned.head(50)\n",
    "accepted_orders = location_df_cleaned[location_df_cleaned['driver_action'] == 'accepted']\n",
    "unfulfilled_orders = location_df_cleaned[location_df_cleaned['driver_action'] == 'rejected']"
   ]
  },
  {
   "cell_type": "code",
   "execution_count": null,
   "metadata": {},
   "outputs": [],
   "source": [
    "def compute_geodesic_distance(coord1, coord2):\n",
    "    return geodesic(coord1, coord2).meters\n",
    "\n",
    "def count_within_radius(df, radius=500):\n",
    "    count_data = []\n",
    "    for i, row1 in df.iterrows():\n",
    "        center_coord = (row1['lat'], row1['lng'])\n",
    "        count_riders = 0\n",
    "        count_orders = 0\n",
    "        riders = set()\n",
    "        orders = set()\n",
    "        \n",
    "        for j, row2 in df.iterrows():\n",
    "            if i != j:\n",
    "                coord = (row2['lat'], row2['lng'])\n",
    "                distance = compute_geodesic_distance(center_coord, coord)\n",
    "                if distance <= radius:\n",
    "                    riders.add(row2['driver_id'])\n",
    "                    orders.add(row2['order_id'])\n",
    "        \n",
    "        count_riders = len(riders)\n",
    "        count_orders = len(orders)\n",
    "        \n",
    "        count_data.append({\n",
    "            'center_order_id': row1['order_id'],\n",
    "            'center_driver_id': row1['driver_id'],\n",
    "            'count_riders_within_500m': count_riders,\n",
    "            'count_orders_within_500m': count_orders\n",
    "        })\n",
    "    \n",
    "    return pd.DataFrame(count_data)\n",
    "\n",
    "accepted_counts = count_within_radius(accepted_orders)\n",
    "unfulfilled_counts = count_within_radius(unfulfilled_orders)\n"
   ]
  },
  {
   "cell_type": "code",
   "execution_count": null,
   "metadata": {},
   "outputs": [],
   "source": []
  },
  {
   "cell_type": "markdown",
   "metadata": {},
   "source": []
  }
 ],
 "metadata": {
  "kernelspec": {
   "display_name": "venv",
   "language": "python",
   "name": "python3"
  },
  "language_info": {
   "codemirror_mode": {
    "name": "ipython",
    "version": 3
   },
   "file_extension": ".py",
   "mimetype": "text/x-python",
   "name": "python",
   "nbconvert_exporter": "python",
   "pygments_lexer": "ipython3",
   "version": "3.8.0"
  }
 },
 "nbformat": 4,
 "nbformat_minor": 2
}

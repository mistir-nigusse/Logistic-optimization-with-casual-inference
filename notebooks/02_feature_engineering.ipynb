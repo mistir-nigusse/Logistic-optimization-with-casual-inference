{
 "cells": [
  {
   "cell_type": "code",
   "execution_count": 6,
   "metadata": {},
   "outputs": [],
   "source": [
    "import pandas as pd\n",
    "from meteostat import Point, Daily\n",
    "from datetime import datetime, timedelta\n",
    "import requests\n",
    "import ssl\n",
    "\n",
    "ssl._create_default_https_context = ssl._create_unverified_context\n",
    "\n"
   ]
  },
  {
   "cell_type": "code",
   "execution_count": 8,
   "metadata": {},
   "outputs": [],
   "source": [
    "\n",
    "\n",
    "def get_weather_data(lat, lon, start_date, end_date):\n",
    "    location = Point(lat, lon)\n",
    "    data = Daily(location, start_date, end_date)\n",
    "    data = data.fetch()\n",
    "    return data\n",
    "\n",
    "# Load your dataset\n",
    "nb_df = pd.read_csv('../data/processed/nb_cleaned.csv')\n",
    "\n"
   ]
  },
  {
   "cell_type": "code",
   "execution_count": 9,
   "metadata": {},
   "outputs": [],
   "source": [
    "nb_df[['Trip Origin Lat', 'Trip Origin Lng']] = nb_df['Trip Origin'].str.split(',', expand=True).astype(float)\n",
    "nb_df[['Trip Destination Lat', 'Trip Destination Lng']] = nb_df['Trip Destination'].str.split(',', expand=True).astype(float)\n",
    "\n",
    "nb_df['Trip Start Time'] = pd.to_datetime(nb_df['Trip Start Time'])\n",
    "nb_df['Trip End Time'] = pd.to_datetime(nb_df['Trip End Time'])\n",
    "\n"
   ]
  },
  {
   "cell_type": "code",
   "execution_count": 11,
   "metadata": {},
   "outputs": [],
   "source": [
    "weather_conditions = []\n",
    "nb_df= nb_df.head(100)\n",
    "for index, row in nb_df.iterrows():\n",
    "    lat, lon = row['Trip Origin Lat'], row['Trip Origin Lng']\n",
    "    start_date = row['Trip Start Time']\n",
    "    end_date = start_date + timedelta(days=1)  \n",
    "    \n",
    "    weather_data = get_weather_data(lat, lon, start_date, end_date)\n",
    "    \n",
    "    if not weather_data.empty:\n",
    "        rain = weather_data['prcp'].iloc[0] > 0  \n",
    "        weather_conditions.append('Rain' if rain else 'No Rain')\n",
    "    else:\n",
    "        weather_conditions.append('No Data')\n",
    "\n",
    "nb_df['Weather Condition'] = weather_conditions\n",
    "\n"
   ]
  },
  {
   "cell_type": "code",
   "execution_count": 13,
   "metadata": {},
   "outputs": [
    {
     "name": "stdout",
     "output_type": "stream",
     "text": [
      "    Unnamed: 0  Trip ID                           Trip Origin  \\\n",
      "0            0   391996    6.508813001668548,3.37740316890347   \n",
      "1            1   391997                   6.4316714,3.4555375   \n",
      "2            2   391998           6.631679399999999,3.3388976   \n",
      "3            3   391999           6.572757200000001,3.3677082   \n",
      "4            4   392001                   6.6010417,3.2766339   \n",
      "..         ...      ...                                   ...   \n",
      "95          95   392195   6.492950899999999,3.380802399999999   \n",
      "96          96   392198  6.601994249890971,3.3489699769657477   \n",
      "97          97   392199                   6.5058143,3.3883071   \n",
      "98          98   392200                    6.4357433,3.438317   \n",
      "99          99   392203                   6.5715416,3.4973193   \n",
      "\n",
      "                        Trip Destination     Trip Start Time  \\\n",
      "0            6.650969799999999,3.3450307 2021-07-01 07:28:04   \n",
      "1        6.4280814653326,3.4721885847586 2021-07-01 06:38:04   \n",
      "2            6.508324099999999,3.3590397 2021-07-01 06:21:02   \n",
      "3            6.584881099999999,3.3614073 2021-07-01 07:16:07   \n",
      "4                    6.4501069,3.3916154 2021-07-01 09:30:59   \n",
      "..                                   ...                 ...   \n",
      "95            6.460190000000001,3.555131 2021-07-01 08:22:13   \n",
      "96  6.457202273160995,3.3805135270195876 2021-07-01 08:22:50   \n",
      "97            6.603262099999999,3.377432 2021-07-01 08:15:22   \n",
      "98        6.455391343655,3.3829452094897 2021-07-01 08:23:27   \n",
      "99                   6.4948489,3.3578813 2021-07-01 08:21:54   \n",
      "\n",
      "         Trip End Time  Trip Origin Lat  Trip Origin Lng  \\\n",
      "0  2021-07-01 07:29:37         6.508813         3.377403   \n",
      "1  2021-07-01 07:07:28         6.431671         3.455538   \n",
      "2  2021-07-01 07:02:23         6.631679         3.338898   \n",
      "3  2021-07-01 07:29:42         6.572757         3.367708   \n",
      "4  2021-07-01 09:34:36         6.601042         3.276634   \n",
      "..                 ...              ...              ...   \n",
      "95 2021-07-01 09:13:26         6.492951         3.380802   \n",
      "96 2021-07-01 09:16:06         6.601994         3.348970   \n",
      "97 2021-07-01 08:22:07         6.505814         3.388307   \n",
      "98 2021-07-01 08:56:22         6.435743         3.438317   \n",
      "99 2021-07-01 09:57:43         6.571542         3.497319   \n",
      "\n",
      "    Trip Destination Lat  Trip Destination Lng Weather Condition  \n",
      "0               6.650970              3.345031           No Rain  \n",
      "1               6.428081              3.472189           No Rain  \n",
      "2               6.508324              3.359040           No Rain  \n",
      "3               6.584881              3.361407           No Rain  \n",
      "4               6.450107              3.391615           No Rain  \n",
      "..                   ...                   ...               ...  \n",
      "95              6.460190              3.555131           No Rain  \n",
      "96              6.457202              3.380514           No Rain  \n",
      "97              6.603262              3.377432           No Rain  \n",
      "98              6.455391              3.382945           No Rain  \n",
      "99              6.494849              3.357881           No Rain  \n",
      "\n",
      "[100 rows x 11 columns]\n"
     ]
    }
   ],
   "source": [
    "nb_df.to_csv('../data/processed/nb_with_weather_conditions.csv', index=False)\n",
    "\n",
    "print(nb_df.head(100))"
   ]
  },
  {
   "cell_type": "code",
   "execution_count": null,
   "metadata": {},
   "outputs": [],
   "source": []
  }
 ],
 "metadata": {
  "kernelspec": {
   "display_name": "venv",
   "language": "python",
   "name": "python3"
  },
  "language_info": {
   "codemirror_mode": {
    "name": "ipython",
    "version": 3
   },
   "file_extension": ".py",
   "mimetype": "text/x-python",
   "name": "python",
   "nbconvert_exporter": "python",
   "pygments_lexer": "ipython3",
   "version": "3.10.0"
  }
 },
 "nbformat": 4,
 "nbformat_minor": 2
}

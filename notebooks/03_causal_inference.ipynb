{
 "cells": [
  {
   "cell_type": "code",
   "execution_count": 1,
   "metadata": {},
   "outputs": [],
   "source": [
    "import pandas as pd\n",
    "import numpy as np\n",
    "from causalnex.structure import StructureModel\n",
    "\n"
   ]
  },
  {
   "cell_type": "code",
   "execution_count": 2,
   "metadata": {},
   "outputs": [
    {
     "name": "stderr",
     "output_type": "stream",
     "text": [
      "/Users/missy/Desktop/python/Logistic-optimization-with-casual-inference/.venv/lib/python3.8/site-packages/tqdm/auto.py:21: TqdmWarning: IProgress not found. Please update jupyter and ipywidgets. See https://ipywidgets.readthedocs.io/en/stable/user_install.html\n",
      "  from .autonotebook import tqdm as notebook_tqdm\n"
     ]
    }
   ],
   "source": [
    "from causalnex.plots import plot_structure\n",
    "from causalnex.network import BayesianNetwork"
   ]
  },
  {
   "cell_type": "code",
   "execution_count": 3,
   "metadata": {},
   "outputs": [],
   "source": [
    "from sklearn.model_selection import train_test_split\n",
    "from causalnex.plots import plot_structure, NODE_STYLE, EDGE_STYLE\n",
    "\n",
    "import matplotlib.pyplot as plt\n",
    "from causalnex.structure.notears import from_pandas\n",
    "from sklearn.preprocessing import LabelEncoder, MinMaxScaler"
   ]
  },
  {
   "cell_type": "code",
   "execution_count": 4,
   "metadata": {},
   "outputs": [
    {
     "data": {
      "text/html": [
       "<div>\n",
       "<style scoped>\n",
       "    .dataframe tbody tr th:only-of-type {\n",
       "        vertical-align: middle;\n",
       "    }\n",
       "\n",
       "    .dataframe tbody tr th {\n",
       "        vertical-align: top;\n",
       "    }\n",
       "\n",
       "    .dataframe thead th {\n",
       "        text-align: right;\n",
       "    }\n",
       "</style>\n",
       "<table border=\"1\" class=\"dataframe\">\n",
       "  <thead>\n",
       "    <tr style=\"text-align: right;\">\n",
       "      <th></th>\n",
       "      <th>Unnamed: 0.1</th>\n",
       "      <th>Unnamed: 0</th>\n",
       "      <th>order_id</th>\n",
       "      <th>driver_id</th>\n",
       "      <th>driver_action</th>\n",
       "      <th>lat</th>\n",
       "      <th>lng</th>\n",
       "      <th>Origin Lat</th>\n",
       "      <th>Origin Lng</th>\n",
       "      <th>trip_distance</th>\n",
       "      <th>driver_to_order_distance</th>\n",
       "      <th>Trip Start Time</th>\n",
       "      <th>Trip End Time</th>\n",
       "      <th>time_taken</th>\n",
       "      <th>speed</th>\n",
       "      <th>weekday_or_weekend</th>\n",
       "    </tr>\n",
       "  </thead>\n",
       "  <tbody>\n",
       "    <tr>\n",
       "      <th>0</th>\n",
       "      <td>0</td>\n",
       "      <td>0</td>\n",
       "      <td>392001</td>\n",
       "      <td>243828</td>\n",
       "      <td>accepted</td>\n",
       "      <td>6.602207</td>\n",
       "      <td>3.270465</td>\n",
       "      <td>6.601042</td>\n",
       "      <td>3.276634</td>\n",
       "      <td>20.984319</td>\n",
       "      <td>0.694264</td>\n",
       "      <td>2021-07-01 09:30:59</td>\n",
       "      <td>2021-07-01</td>\n",
       "      <td>217.0</td>\n",
       "      <td>0.096702</td>\n",
       "      <td>Weekday</td>\n",
       "    </tr>\n",
       "    <tr>\n",
       "      <th>1</th>\n",
       "      <td>1</td>\n",
       "      <td>1</td>\n",
       "      <td>392001</td>\n",
       "      <td>243588</td>\n",
       "      <td>rejected</td>\n",
       "      <td>6.592097</td>\n",
       "      <td>3.287445</td>\n",
       "      <td>6.601042</td>\n",
       "      <td>3.276634</td>\n",
       "      <td>0.000000</td>\n",
       "      <td>1.551694</td>\n",
       "      <td>1970-01-01 00:00:00</td>\n",
       "      <td>1970-01-01</td>\n",
       "      <td>0.0</td>\n",
       "      <td>NaN</td>\n",
       "      <td>Weekday</td>\n",
       "    </tr>\n",
       "    <tr>\n",
       "      <th>2</th>\n",
       "      <td>2</td>\n",
       "      <td>2</td>\n",
       "      <td>392001</td>\n",
       "      <td>243830</td>\n",
       "      <td>rejected</td>\n",
       "      <td>6.596133</td>\n",
       "      <td>3.281784</td>\n",
       "      <td>6.601042</td>\n",
       "      <td>3.276634</td>\n",
       "      <td>0.000000</td>\n",
       "      <td>0.786777</td>\n",
       "      <td>1970-01-01 00:00:00</td>\n",
       "      <td>1970-01-01</td>\n",
       "      <td>0.0</td>\n",
       "      <td>NaN</td>\n",
       "      <td>Weekday</td>\n",
       "    </tr>\n",
       "  </tbody>\n",
       "</table>\n",
       "</div>"
      ],
      "text/plain": [
       "   Unnamed: 0.1  Unnamed: 0  order_id  driver_id driver_action       lat  \\\n",
       "0             0           0    392001     243828      accepted  6.602207   \n",
       "1             1           1    392001     243588      rejected  6.592097   \n",
       "2             2           2    392001     243830      rejected  6.596133   \n",
       "\n",
       "        lng  Origin Lat  Origin Lng  trip_distance  driver_to_order_distance  \\\n",
       "0  3.270465    6.601042    3.276634      20.984319                  0.694264   \n",
       "1  3.287445    6.601042    3.276634       0.000000                  1.551694   \n",
       "2  3.281784    6.601042    3.276634       0.000000                  0.786777   \n",
       "\n",
       "       Trip Start Time Trip End Time  time_taken     speed weekday_or_weekend  \n",
       "0  2021-07-01 09:30:59    2021-07-01       217.0  0.096702            Weekday  \n",
       "1  1970-01-01 00:00:00    1970-01-01         0.0       NaN            Weekday  \n",
       "2  1970-01-01 00:00:00    1970-01-01         0.0       NaN            Weekday  "
      ]
     },
     "execution_count": 4,
     "metadata": {},
     "output_type": "execute_result"
    }
   ],
   "source": [
    "df = pd.read_csv('safe.csv')\n",
    "df.head(3)"
   ]
  },
  {
   "cell_type": "code",
   "execution_count": 5,
   "metadata": {},
   "outputs": [
    {
     "data": {
      "text/html": [
       "<div>\n",
       "<style scoped>\n",
       "    .dataframe tbody tr th:only-of-type {\n",
       "        vertical-align: middle;\n",
       "    }\n",
       "\n",
       "    .dataframe tbody tr th {\n",
       "        vertical-align: top;\n",
       "    }\n",
       "\n",
       "    .dataframe thead th {\n",
       "        text-align: right;\n",
       "    }\n",
       "</style>\n",
       "<table border=\"1\" class=\"dataframe\">\n",
       "  <thead>\n",
       "    <tr style=\"text-align: right;\">\n",
       "      <th></th>\n",
       "      <th>order_id</th>\n",
       "      <th>driver_id</th>\n",
       "      <th>driver_action</th>\n",
       "      <th>lat</th>\n",
       "      <th>lng</th>\n",
       "      <th>Origin Lat</th>\n",
       "      <th>Origin Lng</th>\n",
       "      <th>trip_distance</th>\n",
       "      <th>driver_to_order_distance</th>\n",
       "      <th>time_taken</th>\n",
       "      <th>speed</th>\n",
       "      <th>weekday_or_weekend</th>\n",
       "    </tr>\n",
       "  </thead>\n",
       "  <tbody>\n",
       "    <tr>\n",
       "      <th>0</th>\n",
       "      <td>392001</td>\n",
       "      <td>243828</td>\n",
       "      <td>accepted</td>\n",
       "      <td>6.602207</td>\n",
       "      <td>3.270465</td>\n",
       "      <td>6.601042</td>\n",
       "      <td>3.276634</td>\n",
       "      <td>20.984319</td>\n",
       "      <td>0.694264</td>\n",
       "      <td>217.0</td>\n",
       "      <td>0.096702</td>\n",
       "      <td>Weekday</td>\n",
       "    </tr>\n",
       "    <tr>\n",
       "      <th>1</th>\n",
       "      <td>392001</td>\n",
       "      <td>243588</td>\n",
       "      <td>rejected</td>\n",
       "      <td>6.592097</td>\n",
       "      <td>3.287445</td>\n",
       "      <td>6.601042</td>\n",
       "      <td>3.276634</td>\n",
       "      <td>0.000000</td>\n",
       "      <td>1.551694</td>\n",
       "      <td>0.0</td>\n",
       "      <td>NaN</td>\n",
       "      <td>Weekday</td>\n",
       "    </tr>\n",
       "  </tbody>\n",
       "</table>\n",
       "</div>"
      ],
      "text/plain": [
       "   order_id  driver_id driver_action       lat       lng  Origin Lat  \\\n",
       "0    392001     243828      accepted  6.602207  3.270465    6.601042   \n",
       "1    392001     243588      rejected  6.592097  3.287445    6.601042   \n",
       "\n",
       "   Origin Lng  trip_distance  driver_to_order_distance  time_taken     speed  \\\n",
       "0    3.276634      20.984319                  0.694264       217.0  0.096702   \n",
       "1    3.276634       0.000000                  1.551694         0.0       NaN   \n",
       "\n",
       "  weekday_or_weekend  \n",
       "0            Weekday  \n",
       "1            Weekday  "
      ]
     },
     "execution_count": 5,
     "metadata": {},
     "output_type": "execute_result"
    }
   ],
   "source": [
    "df = df.drop(columns=['Unnamed: 0.1', 'Unnamed: 0', 'Trip Start Time', 'Trip End Time'], errors='ignore')\n",
    "\n",
    "df.head(2)\n",
    "# df =df.fillna(df.mean())\n",
    "# df = df.replace([float('inf'), float('-inf')], 1e10)\n"
   ]
  },
  {
   "cell_type": "code",
   "execution_count": 6,
   "metadata": {},
   "outputs": [],
   "source": [
    "label_encoder = LabelEncoder()\n",
    "df['driver_action'] = label_encoder.fit_transform(df['driver_action'])\n",
    "df['weekday_or_weekend'] = label_encoder.fit_transform(df['weekday_or_weekend'])"
   ]
  },
  {
   "cell_type": "code",
   "execution_count": 7,
   "metadata": {},
   "outputs": [],
   "source": [
    "scaler = MinMaxScaler()\n",
    "scaled_df = pd.DataFrame(scaler.fit_transform(df), columns=df.columns)\n",
    "train_df, holdout_df = train_test_split(df, test_size=0.2, random_state=42)\n",
    "\n",
    "scaled_train_df = pd.DataFrame(scaler.fit_transform(train_df), columns=train_df.columns)\n",
    "scaled_holdout_df = pd.DataFrame(scaler.transform(holdout_df), columns=holdout_df.columns)\n"
   ]
  },
  {
   "cell_type": "code",
   "execution_count": 8,
   "metadata": {},
   "outputs": [],
   "source": [
    "driver_action_relations =[\n",
    "    ('weekday_or_weekend', 'driver_action'),\n",
    "    ('driver_to_order_distance', 'driver_action'),\n",
    "    ('trip_distance', 'driver_action'),\n",
    "    ('driver_to_order_distance', 'trip_distance')\n",
    "\n",
    "]"
   ]
  },
  {
   "cell_type": "code",
   "execution_count": 22,
   "metadata": {},
   "outputs": [
    {
     "name": "stdout",
     "output_type": "stream",
     "text": [
      "<class 'pandas.core.frame.DataFrame'>\n",
      "RangeIndex: 1244574 entries, 0 to 1244573\n",
      "Data columns (total 12 columns):\n",
      " #   Column                    Non-Null Count    Dtype  \n",
      "---  ------                    --------------    -----  \n",
      " 0   order_id                  1244574 non-null  float64\n",
      " 1   driver_id                 1244574 non-null  float64\n",
      " 2   driver_action             1244574 non-null  float64\n",
      " 3   lat                       1244574 non-null  float64\n",
      " 4   lng                       1244574 non-null  float64\n",
      " 5   Origin Lat                1244574 non-null  float64\n",
      " 6   Origin Lng                1244574 non-null  float64\n",
      " 7   trip_distance             1244574 non-null  float64\n",
      " 8   driver_to_order_distance  1244574 non-null  float64\n",
      " 9   time_taken                1244574 non-null  float64\n",
      " 10  speed                     20670 non-null    float64\n",
      " 11  weekday_or_weekend        1244574 non-null  float64\n",
      "dtypes: float64(12)\n",
      "memory usage: 113.9 MB\n"
     ]
    }
   ],
   "source": [
    "scaled_train_df.info()"
   ]
  },
  {
   "cell_type": "code",
   "execution_count": 21,
   "metadata": {},
   "outputs": [
    {
     "name": "stdout",
     "output_type": "stream",
     "text": [
      "<class 'pandas.core.frame.DataFrame'>\n",
      "RangeIndex: 311144 entries, 0 to 311143\n",
      "Data columns (total 12 columns):\n",
      " #   Column                    Non-Null Count   Dtype  \n",
      "---  ------                    --------------   -----  \n",
      " 0   order_id                  311144 non-null  float64\n",
      " 1   driver_id                 311144 non-null  float64\n",
      " 2   driver_action             311144 non-null  float64\n",
      " 3   lat                       311144 non-null  float64\n",
      " 4   lng                       311144 non-null  float64\n",
      " 5   Origin Lat                311144 non-null  float64\n",
      " 6   Origin Lng                311144 non-null  float64\n",
      " 7   trip_distance             311144 non-null  float64\n",
      " 8   driver_to_order_distance  311144 non-null  float64\n",
      " 9   time_taken                311144 non-null  float64\n",
      " 10  speed                     5201 non-null    float64\n",
      " 11  weekday_or_weekend        311144 non-null  float64\n",
      "dtypes: float64(12)\n",
      "memory usage: 28.5 MB\n"
     ]
    }
   ],
   "source": [
    "scaled_holdout_df.info()"
   ]
  },
  {
   "cell_type": "code",
   "execution_count": 9,
   "metadata": {},
   "outputs": [],
   "source": [
    "sm = StructureModel()\n",
    "\n",
    "sm.add_edges_from(driver_action_relations)\n"
   ]
  },
  {
   "cell_type": "markdown",
   "metadata": {},
   "source": []
  },
  {
   "cell_type": "code",
   "execution_count": 11,
   "metadata": {},
   "outputs": [
    {
     "name": "stdout",
     "output_type": "stream",
     "text": [
      "b.html\n"
     ]
    },
    {
     "data": {
      "text/html": [
       "\n",
       "        <iframe\n",
       "            width=\"100%\"\n",
       "            height=\"600px\"\n",
       "            src=\"b.html\"\n",
       "            frameborder=\"0\"\n",
       "            allowfullscreen\n",
       "            \n",
       "        ></iframe>\n",
       "        "
      ],
      "text/plain": [
       "<IPython.lib.display.IFrame at 0x7f8e49040fa0>"
      ]
     },
     "execution_count": 11,
     "metadata": {},
     "output_type": "execute_result"
    }
   ],
   "source": [
    "\n",
    "viz = plot_structure(\n",
    "    sm,\n",
    "    # graph_attributes={\"scale\": \"0.5\"},\n",
    "    all_node_attributes=NODE_STYLE.WEAK,\n",
    "    all_edge_attributes=EDGE_STYLE.WEAK,\n",
    ")\n",
    "\n",
    "viz.show('b.html')\n",
    "\n",
    "\n"
   ]
  },
  {
   "cell_type": "code",
   "execution_count": 12,
   "metadata": {},
   "outputs": [],
   "source": [
    "from causalnex.network import BayesianNetwork\n",
    "from causalnex.inference import InferenceEngine\n"
   ]
  },
  {
   "cell_type": "code",
   "execution_count": 13,
   "metadata": {},
   "outputs": [],
   "source": [
    "bn = BayesianNetwork(sm)\n"
   ]
  },
  {
   "cell_type": "code",
   "execution_count": 14,
   "metadata": {},
   "outputs": [
    {
     "data": {
      "text/plain": [
       "['weekday_or_weekend',\n",
       " 'driver_action',\n",
       " 'driver_to_order_distance',\n",
       " 'trip_distance']"
      ]
     },
     "execution_count": 14,
     "metadata": {},
     "output_type": "execute_result"
    }
   ],
   "source": [
    "bn.nodes"
   ]
  },
  {
   "cell_type": "code",
   "execution_count": 42,
   "metadata": {},
   "outputs": [
    {
     "data": {
      "text/html": [
       "<div>\n",
       "<style scoped>\n",
       "    .dataframe tbody tr th:only-of-type {\n",
       "        vertical-align: middle;\n",
       "    }\n",
       "\n",
       "    .dataframe tbody tr th {\n",
       "        vertical-align: top;\n",
       "    }\n",
       "\n",
       "    .dataframe thead th {\n",
       "        text-align: right;\n",
       "    }\n",
       "</style>\n",
       "<table border=\"1\" class=\"dataframe\">\n",
       "  <thead>\n",
       "    <tr style=\"text-align: right;\">\n",
       "      <th></th>\n",
       "      <th>order_id</th>\n",
       "      <th>driver_id</th>\n",
       "      <th>driver_action</th>\n",
       "      <th>lat</th>\n",
       "      <th>lng</th>\n",
       "      <th>Origin Lat</th>\n",
       "      <th>Origin Lng</th>\n",
       "      <th>trip_distance</th>\n",
       "      <th>driver_to_order_distance</th>\n",
       "      <th>time_taken</th>\n",
       "      <th>weekday_or_weekend</th>\n",
       "    </tr>\n",
       "  </thead>\n",
       "  <tbody>\n",
       "    <tr>\n",
       "      <th>0</th>\n",
       "      <td>0.0</td>\n",
       "      <td>0.967839</td>\n",
       "      <td>0.0</td>\n",
       "      <td>0.149144</td>\n",
       "      <td>0.035652</td>\n",
       "      <td>0.775034</td>\n",
       "      <td>0.302652</td>\n",
       "      <td>0.030856</td>\n",
       "      <td>0.001058</td>\n",
       "      <td>0.000665</td>\n",
       "      <td>0.0</td>\n",
       "    </tr>\n",
       "    <tr>\n",
       "      <th>1</th>\n",
       "      <td>0.0</td>\n",
       "      <td>0.965932</td>\n",
       "      <td>1.0</td>\n",
       "      <td>0.141327</td>\n",
       "      <td>0.038774</td>\n",
       "      <td>0.775034</td>\n",
       "      <td>0.302652</td>\n",
       "      <td>0.000000</td>\n",
       "      <td>0.002365</td>\n",
       "      <td>0.000000</td>\n",
       "      <td>0.0</td>\n",
       "    </tr>\n",
       "    <tr>\n",
       "      <th>2</th>\n",
       "      <td>0.0</td>\n",
       "      <td>0.967854</td>\n",
       "      <td>1.0</td>\n",
       "      <td>0.144448</td>\n",
       "      <td>0.037733</td>\n",
       "      <td>0.775034</td>\n",
       "      <td>0.302652</td>\n",
       "      <td>0.000000</td>\n",
       "      <td>0.001199</td>\n",
       "      <td>0.000000</td>\n",
       "      <td>0.0</td>\n",
       "    </tr>\n",
       "  </tbody>\n",
       "</table>\n",
       "</div>"
      ],
      "text/plain": [
       "   order_id  driver_id  driver_action       lat       lng  Origin Lat  \\\n",
       "0       0.0   0.967839            0.0  0.149144  0.035652    0.775034   \n",
       "1       0.0   0.965932            1.0  0.141327  0.038774    0.775034   \n",
       "2       0.0   0.967854            1.0  0.144448  0.037733    0.775034   \n",
       "\n",
       "   Origin Lng  trip_distance  driver_to_order_distance  time_taken  \\\n",
       "0    0.302652       0.030856                  0.001058    0.000665   \n",
       "1    0.302652       0.000000                  0.002365    0.000000   \n",
       "2    0.302652       0.000000                  0.001199    0.000000   \n",
       "\n",
       "   weekday_or_weekend  \n",
       "0                 0.0  \n",
       "1                 0.0  \n",
       "2                 0.0  "
      ]
     },
     "execution_count": 42,
     "metadata": {},
     "output_type": "execute_result"
    }
   ],
   "source": [
    "scaled_df.head(3)\n"
   ]
  },
  {
   "cell_type": "code",
   "execution_count": 76,
   "metadata": {},
   "outputs": [
    {
     "data": {
      "text/html": [
       "<div>\n",
       "<style scoped>\n",
       "    .dataframe tbody tr th:only-of-type {\n",
       "        vertical-align: middle;\n",
       "    }\n",
       "\n",
       "    .dataframe tbody tr th {\n",
       "        vertical-align: top;\n",
       "    }\n",
       "\n",
       "    .dataframe thead th {\n",
       "        text-align: right;\n",
       "    }\n",
       "</style>\n",
       "<table border=\"1\" class=\"dataframe\">\n",
       "  <thead>\n",
       "    <tr style=\"text-align: right;\">\n",
       "      <th></th>\n",
       "      <th>driver_action</th>\n",
       "      <th>trip_distance</th>\n",
       "      <th>driver_to_order_distance</th>\n",
       "      <th>weekday_or_weekend</th>\n",
       "    </tr>\n",
       "  </thead>\n",
       "  <tbody>\n",
       "    <tr>\n",
       "      <th>count</th>\n",
       "      <td>800.000000</td>\n",
       "      <td>800.000000</td>\n",
       "      <td>800.000000</td>\n",
       "      <td>800.0</td>\n",
       "    </tr>\n",
       "    <tr>\n",
       "      <th>mean</th>\n",
       "      <td>0.980000</td>\n",
       "      <td>0.000480</td>\n",
       "      <td>0.002443</td>\n",
       "      <td>0.0</td>\n",
       "    </tr>\n",
       "    <tr>\n",
       "      <th>std</th>\n",
       "      <td>0.140088</td>\n",
       "      <td>0.003994</td>\n",
       "      <td>0.000976</td>\n",
       "      <td>0.0</td>\n",
       "    </tr>\n",
       "    <tr>\n",
       "      <th>min</th>\n",
       "      <td>0.000000</td>\n",
       "      <td>0.000000</td>\n",
       "      <td>0.000175</td>\n",
       "      <td>0.0</td>\n",
       "    </tr>\n",
       "    <tr>\n",
       "      <th>25%</th>\n",
       "      <td>1.000000</td>\n",
       "      <td>0.000000</td>\n",
       "      <td>0.001807</td>\n",
       "      <td>0.0</td>\n",
       "    </tr>\n",
       "    <tr>\n",
       "      <th>50%</th>\n",
       "      <td>1.000000</td>\n",
       "      <td>0.000000</td>\n",
       "      <td>0.002436</td>\n",
       "      <td>0.0</td>\n",
       "    </tr>\n",
       "    <tr>\n",
       "      <th>75%</th>\n",
       "      <td>1.000000</td>\n",
       "      <td>0.000000</td>\n",
       "      <td>0.002907</td>\n",
       "      <td>0.0</td>\n",
       "    </tr>\n",
       "    <tr>\n",
       "      <th>max</th>\n",
       "      <td>1.000000</td>\n",
       "      <td>0.051793</td>\n",
       "      <td>0.004559</td>\n",
       "      <td>0.0</td>\n",
       "    </tr>\n",
       "  </tbody>\n",
       "</table>\n",
       "</div>"
      ],
      "text/plain": [
       "       driver_action  trip_distance  driver_to_order_distance  \\\n",
       "count     800.000000     800.000000                800.000000   \n",
       "mean        0.980000       0.000480                  0.002443   \n",
       "std         0.140088       0.003994                  0.000976   \n",
       "min         0.000000       0.000000                  0.000175   \n",
       "25%         1.000000       0.000000                  0.001807   \n",
       "50%         1.000000       0.000000                  0.002436   \n",
       "75%         1.000000       0.000000                  0.002907   \n",
       "max         1.000000       0.051793                  0.004559   \n",
       "\n",
       "       weekday_or_weekend  \n",
       "count               800.0  \n",
       "mean                  0.0  \n",
       "std                   0.0  \n",
       "min                   0.0  \n",
       "25%                   0.0  \n",
       "50%                   0.0  \n",
       "75%                   0.0  \n",
       "max                   0.0  "
      ]
     },
     "execution_count": 76,
     "metadata": {},
     "output_type": "execute_result"
    }
   ],
   "source": [
    "train_df, holdout_df = train_test_split(scaled_df, test_size=0.2, random_state=42)\n",
    "\n",
    "# print(train_df.tail(3))\n",
    "train_df.describe()\n",
    "\n"
   ]
  },
  {
   "cell_type": "code",
   "execution_count": 61,
   "metadata": {},
   "outputs": [],
   "source": [
    "bn = bn.fit_node_states_and_cpds(train_df)\n"
   ]
  },
  {
   "cell_type": "code",
   "execution_count": 46,
   "metadata": {},
   "outputs": [],
   "source": [
    "ie = InferenceEngine(bn.fit_node_states_and_cpds(scaled_df))\n"
   ]
  },
  {
   "cell_type": "code",
   "execution_count": 95,
   "metadata": {},
   "outputs": [
    {
     "name": "stdout",
     "output_type": "stream",
     "text": [
      "predicted_outcome_0 = {0.0: 0.01800000000000001, 1.0: 0.9820000000000008}\n"
     ]
    }
   ],
   "source": [
    "for i in range(0,1):\n",
    "  ie.do_intervention('weekday_or_weekend',i)\n",
    "  print(f\"predicted_outcome_{i} = {ie.query()['driver_action']}\")\n",
    "\n",
    "  ie.reset_do(\"weekday_or_weekend\")"
   ]
  },
  {
   "cell_type": "code",
   "execution_count": 96,
   "metadata": {},
   "outputs": [
    {
     "name": "stdout",
     "output_type": "stream",
     "text": [
      "predicted_outcome_0 = {0.0: 0.005500000000000001, 1.0: 0.9945000000000006}\n"
     ]
    }
   ],
   "source": [
    "for i in range(0,1):\n",
    "  ie.do_intervention('trip_distance',i)\n",
    "  print(f\"predicted_outcome_{i} = {ie.query()['driver_action']}\")\n",
    "\n",
    "ie.reset_do(\"trip_distance\")"
   ]
  },
  {
   "cell_type": "code",
   "execution_count": 98,
   "metadata": {},
   "outputs": [
    {
     "ename": "ValueError",
     "evalue": "The cpd for the provided observation must sum to 1",
     "output_type": "error",
     "traceback": [
      "\u001b[0;31m---------------------------------------------------------------------------\u001b[0m",
      "\u001b[0;31mValueError\u001b[0m                                Traceback (most recent call last)",
      "Cell \u001b[0;32mIn[98], line 2\u001b[0m\n\u001b[1;32m      1\u001b[0m \u001b[38;5;28;01mfor\u001b[39;00m i \u001b[38;5;129;01min\u001b[39;00m \u001b[38;5;28mrange\u001b[39m(\u001b[38;5;241m0\u001b[39m,\u001b[38;5;241m10\u001b[39m):\n\u001b[0;32m----> 2\u001b[0m   \u001b[43mie\u001b[49m\u001b[38;5;241;43m.\u001b[39;49m\u001b[43mdo_intervention\u001b[49m\u001b[43m(\u001b[49m\u001b[38;5;124;43m'\u001b[39;49m\u001b[38;5;124;43mdriver_to_order_distance\u001b[39;49m\u001b[38;5;124;43m'\u001b[39;49m\u001b[43m,\u001b[49m\u001b[43mi\u001b[49m\u001b[43m)\u001b[49m\n\u001b[1;32m      3\u001b[0m   \u001b[38;5;28mprint\u001b[39m(\u001b[38;5;124mf\u001b[39m\u001b[38;5;124m\"\u001b[39m\u001b[38;5;124mpredicted_outcome_\u001b[39m\u001b[38;5;132;01m{\u001b[39;00mi\u001b[38;5;132;01m}\u001b[39;00m\u001b[38;5;124m = \u001b[39m\u001b[38;5;132;01m{\u001b[39;00mie\u001b[38;5;241m.\u001b[39mquery()[\u001b[38;5;124m'\u001b[39m\u001b[38;5;124mdriver_action\u001b[39m\u001b[38;5;124m'\u001b[39m]\u001b[38;5;132;01m}\u001b[39;00m\u001b[38;5;124m\"\u001b[39m)\n\u001b[1;32m      5\u001b[0m   ie\u001b[38;5;241m.\u001b[39mreset_do(\u001b[38;5;124m\"\u001b[39m\u001b[38;5;124mdriver_to_order_distance\u001b[39m\u001b[38;5;124m\"\u001b[39m)\n",
      "File \u001b[0;32m~/Desktop/python/Logistic-optimization-with-casual-inference/.venv/lib/python3.8/site-packages/causalnex/inference/inference.py:262\u001b[0m, in \u001b[0;36mInferenceEngine.do_intervention\u001b[0;34m(self, node, state)\u001b[0m\n\u001b[1;32m    259\u001b[0m \u001b[38;5;28;01mif\u001b[39;00m \u001b[38;5;28misinstance\u001b[39m(state, \u001b[38;5;28mint\u001b[39m):\n\u001b[1;32m    260\u001b[0m     state \u001b[38;5;241m=\u001b[39m {s: \u001b[38;5;28mfloat\u001b[39m(s \u001b[38;5;241m==\u001b[39m state) \u001b[38;5;28;01mfor\u001b[39;00m s \u001b[38;5;129;01min\u001b[39;00m \u001b[38;5;28mself\u001b[39m\u001b[38;5;241m.\u001b[39m_cpds[node]}\n\u001b[0;32m--> 262\u001b[0m \u001b[38;5;28;43mself\u001b[39;49m\u001b[38;5;241;43m.\u001b[39;49m\u001b[43m_do\u001b[49m\u001b[43m(\u001b[49m\u001b[43mnode\u001b[49m\u001b[43m,\u001b[49m\u001b[43m \u001b[49m\u001b[43mstate\u001b[49m\u001b[43m)\u001b[49m\n\u001b[1;32m    264\u001b[0m \u001b[38;5;66;03m# check for presence of separate subgraph after do-intervention\u001b[39;00m\n\u001b[1;32m    265\u001b[0m \u001b[38;5;28mself\u001b[39m\u001b[38;5;241m.\u001b[39m_remove_disconnected_nodes(node)\n",
      "File \u001b[0;32m~/Desktop/python/Logistic-optimization-with-casual-inference/.venv/lib/python3.8/site-packages/causalnex/inference/inference.py:210\u001b[0m, in \u001b[0;36mInferenceEngine._do\u001b[0;34m(self, observation, state)\u001b[0m\n\u001b[1;32m    199\u001b[0m \u001b[38;5;250m\u001b[39m\u001b[38;5;124;03m\"\"\"\u001b[39;00m\n\u001b[1;32m    200\u001b[0m \u001b[38;5;124;03mMakes an intervention on the Bayesian Network.\u001b[39;00m\n\u001b[1;32m    201\u001b[0m \n\u001b[0;32m   (...)\u001b[0m\n\u001b[1;32m    207\u001b[0m \u001b[38;5;124;03m    ValueError: if states do not match original states of the node, or probabilities do not sum to 1.\u001b[39;00m\n\u001b[1;32m    208\u001b[0m \u001b[38;5;124;03m\"\"\"\u001b[39;00m\n\u001b[1;32m    209\u001b[0m \u001b[38;5;28;01mif\u001b[39;00m \u001b[38;5;129;01mnot\u001b[39;00m math\u001b[38;5;241m.\u001b[39misclose(\u001b[38;5;28msum\u001b[39m(state\u001b[38;5;241m.\u001b[39mvalues()), \u001b[38;5;241m1.0\u001b[39m):\n\u001b[0;32m--> 210\u001b[0m     \u001b[38;5;28;01mraise\u001b[39;00m \u001b[38;5;167;01mValueError\u001b[39;00m(\u001b[38;5;124m\"\u001b[39m\u001b[38;5;124mThe cpd for the provided observation must sum to 1\u001b[39m\u001b[38;5;124m\"\u001b[39m)\n\u001b[1;32m    212\u001b[0m \u001b[38;5;28;01mif\u001b[39;00m \u001b[38;5;28mmax\u001b[39m(state\u001b[38;5;241m.\u001b[39mvalues()) \u001b[38;5;241m>\u001b[39m \u001b[38;5;241m1.0\u001b[39m \u001b[38;5;129;01mor\u001b[39;00m \u001b[38;5;28mmin\u001b[39m(state\u001b[38;5;241m.\u001b[39mvalues()) \u001b[38;5;241m<\u001b[39m \u001b[38;5;241m0\u001b[39m:\n\u001b[1;32m    213\u001b[0m     \u001b[38;5;28;01mraise\u001b[39;00m \u001b[38;5;167;01mValueError\u001b[39;00m(\n\u001b[1;32m    214\u001b[0m         \u001b[38;5;124m\"\u001b[39m\u001b[38;5;124mThe cpd for the provided observation must be between 0 and 1\u001b[39m\u001b[38;5;124m\"\u001b[39m\n\u001b[1;32m    215\u001b[0m     )\n",
      "\u001b[0;31mValueError\u001b[0m: The cpd for the provided observation must sum to 1"
     ]
    }
   ],
   "source": [
    "for i in range(0,10):\n",
    "  ie.do_intervention('driver_to_order_distance',i)\n",
    "  print(f\"predicted_outcome_{i} = {ie.query()['driver_action']}\")\n",
    "\n",
    "  ie.reset_do(\"driver_to_order_distance\")"
   ]
  }
 ],
 "metadata": {
  "language_info": {
   "name": "python"
  }
 },
 "nbformat": 4,
 "nbformat_minor": 2
}
